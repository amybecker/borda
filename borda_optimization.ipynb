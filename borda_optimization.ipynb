{
  "nbformat": 4,
  "nbformat_minor": 0,
  "metadata": {
    "colab": {
      "name": "test.ipynb",
      "provenance": [],
      "collapsed_sections": [],
      "authorship_tag": "ABX9TyMgjWOduAK/dob8nFCYGmoc",
      "include_colab_link": true
    },
    "kernelspec": {
      "name": "python3",
      "display_name": "Python 3"
    }
  },
  "cells": [
    {
      "cell_type": "markdown",
      "metadata": {
        "id": "view-in-github",
        "colab_type": "text"
      },
      "source": [
        "<a href=\"https://colab.research.google.com/github/amybecker/borda/blob/master/borda_optimization.ipynb\" target=\"_parent\"><img src=\"https://colab.research.google.com/assets/colab-badge.svg\" alt=\"Open In Colab\"/></a>"
      ]
    },
    {
      "cell_type": "code",
      "metadata": {
        "id": "AmpL0_CLIHI4",
        "colab_type": "code",
        "colab": {
          "base_uri": "https://localhost:8080/",
          "height": 136
        },
        "outputId": "9e247898-e265-45f7-9a2b-16756988b592"
      },
      "source": [
        "import sys\n",
        "!{sys.executable} -m pip install mip"
      ],
      "execution_count": 1,
      "outputs": [
        {
          "output_type": "stream",
          "text": [
            "Collecting mip\n",
            "\u001b[?25l  Downloading https://files.pythonhosted.org/packages/3a/86/9701f4edd9cd27eb551c6d6efca91832192f05bc29c0bfb35b68c10cd123/mip-1.9.3-py3-none-any.whl (48.4MB)\n",
            "\u001b[K     |████████████████████████████████| 48.4MB 90kB/s \n",
            "\u001b[?25hRequirement already satisfied: cffi in /usr/local/lib/python3.6/dist-packages (from mip) (1.14.0)\n",
            "Requirement already satisfied: pycparser in /usr/local/lib/python3.6/dist-packages (from cffi->mip) (2.20)\n",
            "Installing collected packages: mip\n",
            "Successfully installed mip-1.9.3\n"
          ],
          "name": "stdout"
        }
      ]
    },
    {
      "cell_type": "code",
      "metadata": {
        "id": "oNd3Uyzp_ufO",
        "colab_type": "code",
        "colab": {
          "base_uri": "https://localhost:8080/",
          "height": 136
        },
        "outputId": "f7892c62-e6e9-405a-e958-9de0f85898be"
      },
      "source": [
        "!git clone https://github.com/amybecker/borda\n",
        "%cd borda"
      ],
      "execution_count": 2,
      "outputs": [
        {
          "output_type": "stream",
          "text": [
            "Cloning into 'borda'...\n",
            "remote: Enumerating objects: 29, done.\u001b[K\n",
            "remote: Counting objects: 100% (29/29), done.\u001b[K\n",
            "remote: Compressing objects: 100% (27/27), done.\u001b[K\n",
            "remote: Total 72 (delta 7), reused 16 (delta 2), pack-reused 43\u001b[K\n",
            "Unpacking objects: 100% (72/72), done.\n",
            "/content/borda\n"
          ],
          "name": "stdout"
        }
      ]
    },
    {
      "cell_type": "code",
      "metadata": {
        "id": "QnvVyCCNy1WP",
        "colab_type": "code",
        "colab": {
          "base_uri": "https://localhost:8080/",
          "height": 71
        },
        "outputId": "16d59222-21d1-402c-8f30-c3dcf4ff13d3"
      },
      "source": [
        "from mip import *\n",
        "import operator\n",
        "import itertools\n",
        "import scipy.stats as stats\n",
        "import numpy as np\n",
        "import seaborn as sns\n",
        "import matplotlib.pyplot as plt\n",
        "from vote_reader import *"
      ],
      "execution_count": 3,
      "outputs": [
        {
          "output_type": "stream",
          "text": [
            "/usr/local/lib/python3.6/dist-packages/statsmodels/tools/_testing.py:19: FutureWarning: pandas.util.testing is deprecated. Use the functions in the public API at pandas.testing instead.\n",
            "  import pandas.util.testing as tm\n"
          ],
          "name": "stderr"
        }
      ]
    },
    {
      "cell_type": "code",
      "metadata": {
        "id": "6x-eGykNzCEk",
        "colab_type": "code",
        "colab": {}
      },
      "source": [
        "#helper functions\n",
        "def vec_dist(x,places):\n",
        "    out_sum = 0\n",
        "    for unit in range(len(units)):\n",
        "        place_votes_unit = place_votes[unit]\n",
        "        borda_scores = {cands[units[unit]][cand]:sum([place_votes_unit[cand][i]*x[i] for i in range(len(x))]) for cand in range(len(place_votes_unit))}\n",
        "        sorted_borda_dict = dict(sorted(borda_scores.items(), key=operator.itemgetter(1), reverse=True))\n",
        "        borda_vec = list(sorted_borda_dict.keys())\n",
        "        assert(len(STV_vecs[units[unit]])==len(borda_vec))\n",
        "        assert(set(STV_vecs[units[unit]])==set(borda_vec))\n",
        "        a = [STV_vecs[units[unit]].index(c) for c in STV_vecs[units[unit]]]\n",
        "        b = [STV_vecs[units[unit]].index(c) for c in borda_vec]\n",
        "        out_sum += (-1*stats.kendalltau(a[:places], b[:places])[0]+1)/2\n",
        "    return out_sum\n",
        "\n",
        "def borda_scores(x):\n",
        "    out_dict = {}\n",
        "    for unit in range(len(units)):\n",
        "        place_votes_unit = place_votes[unit]\n",
        "        scores = {cands[units[unit]][cand]:sum([place_votes_unit[cand][i]*x[i] for i in range(len(x))]) for cand in range(len(place_votes_unit))}\n",
        "        sorted_borda_dict = dict(sorted(scores.items(), key=operator.itemgetter(1), reverse=True))\n",
        "        borda_vec = list(sorted_borda_dict.keys())\n",
        "        out_dict[units[unit]] = {cand:sorted_borda_dict[cand] for cand in borda_vec}\n",
        "    return out_dict\n",
        "\n",
        "def borda_vec(x):\n",
        "    scores_dict = borda_scores(x)\n",
        "    out_dict = {}\n",
        "    for unit in units:\n",
        "        sorted_borda_dict = dict(sorted(scores_dict[unit].items(), key=operator.itemgetter(1), reverse=True))\n",
        "        out_dict[unit]= list(sorted_borda_dict.keys())\n",
        "    return out_dict\n"
      ],
      "execution_count": 4,
      "outputs": []
    },
    {
      "cell_type": "code",
      "metadata": {
        "id": "uNaOd9g215s_",
        "colab_type": "code",
        "colab": {}
      },
      "source": [
        "def mip_solver():\n",
        "    # Create a new model\n",
        "    # m = Model(solver_name=CBC)\n",
        "    m = Model()\n",
        "    m.integer_tol = 1e-9\n",
        "\n",
        "    # Create variables\n",
        "    # borda weights\n",
        "    w_mat = [0]*n_cand\n",
        "    for i in range(n_cand):\n",
        "        if num_pts_total == 1:\n",
        "            w_mat[i] = m.add_var(lb = 0.0, ub=1, name=\"w_\"+str(i))\n",
        "        else:\n",
        "            w_mat[i] = m.add_var(lb = 0, ub=num_pts_total, var_type=INTEGER, name=\"w_\"+str(i))\n",
        "\n",
        "\n",
        "    # violated_ordered_pairs\n",
        "    z_mat = [[[0]*n_cand for i in range(n_cand)] for unit in range(len(units))]\n",
        "    for y in range(len(units)):\n",
        "        for i in range(n_cand):\n",
        "            for j in range(n_cand):\n",
        "                z_mat[y][i][j] = m.add_var(var_type=BINARY, name=\"z_\"+str(y)+'_'+str(i)+'_'+str(j))\n",
        "\n",
        "    # Add constraints:\n",
        "    for i in range(len(w_mat)-1):\n",
        "        m+= w_mat[i]- w_mat[i+1]>= 0, \"w_noninc_\"+str(i)\n",
        "    m += w_mat[-1]>= 0, \"w_nonneg\"\n",
        "\n",
        "    m += num_pts_total == xsum(w_mat), \"w_sum_to_one\"\n",
        "\n",
        "    for y in range(len(units)):\n",
        "        for i in range(places_of_interest-1):\n",
        "            for j in range(i+1,places_of_interest,1):\n",
        "                if STV_places[y][i] < STV_places[y][j]:\n",
        "                    m+= xsum([place_votes[y][j][k]*w_mat[k] for k in range(n_cand)]) - xsum([place_votes[y][i][k]*w_mat[k] for k in range(n_cand)])<= z_mat[y][i][j]*U - min_score_diff\n",
        "                else:\n",
        "                    m+= xsum([place_votes[y][i][k]*w_mat[k] for k in range(n_cand)]) - xsum([place_votes[y][j][k]*w_mat[k] for k in range(n_cand)])<= z_mat[y][i][j]*U - min_score_diff\n",
        "\n",
        "    # Set objective:\n",
        "    m.objective = minimize(xsum([xsum([xsum(z_elem) for z_elem in z_unit]) for z_unit in z_mat]))\n",
        "\n",
        "    status = m.optimize(max_seconds=3600)\n",
        "    if status == OptimizationStatus.OPTIMAL:\n",
        "        print('optimal solution cost {} found'.format(m.objective_value))\n",
        "    elif status == OptimizationStatus.FEASIBLE:\n",
        "        print('sol.cost {} found, best possible: {}'.format(m.objective_value, m.objective_bound))\n",
        "    elif status == OptimizationStatus.NO_SOLUTION_FOUND:\n",
        "        print('no feasible solution found, lower bound is: {}'.format(m.objective_bound))\n",
        "\n",
        "    for elem in w_mat:\n",
        "        print(\"optimal \"+elem.name+\":\", elem.x)\n",
        "\n",
        "    w = [round(elem.x, print_precision) for elem in w_mat]\n",
        "    w_borda1 = list(range(len(w),0,-1))\n",
        "    w_borda0 = [w_i - 1 for w_i in w_borda1]\n",
        "    w_Dowdall = [1/(len(w_borda0)-w_i) for w_i in w_borda0]\n",
        "    w_MLB_MVP = [14]+[9-i for i in range(9)]\n",
        "    print(\"w:\", w)\n",
        "    return w\n",
        "\n",
        "def print_vector_distances(w):\n",
        "    print(\"vector dist (kendall tau) w:\", vec_dist(w,places_of_interest))\n",
        "    print(\"vector dist (kendall tau) borda_1:\", vec_dist(w_borda1,places_of_interest))\n",
        "    print(\"vector dist (kendall tau) borda_2:\", vec_dist(w_borda0,places_of_interest))\n",
        "    print(\"vector dist (kendall tau) Dowdall:\", vec_dist(w_Dowdall,places_of_interest))\n",
        "    print(\"vector dist (kendall tau) MLB MVP:\", vec_dist(w_MLB_MVP,places_of_interest))\n",
        "\n",
        "def print_target_comparison(w):\n",
        "    print('borda scores:', borda_scores(w))\n",
        "    print('targets:', [STV_vecs[unit][:places_of_interest] for unit in units])\n",
        "\n"
      ],
      "execution_count": 16,
      "outputs": []
    },
    {
      "cell_type": "code",
      "metadata": {
        "id": "fR6F_FjJ_gaE",
        "colab_type": "code",
        "colab": {}
      },
      "source": [
        "def three_weight_heat_map(fix_weight_1, places_of_interest):\n",
        "    scores = [[0]*(fix_weight_1+1) for i in range(fix_weight_1+1)]\n",
        "    for i in range(fix_weight_1+1):\n",
        "        for j in range(fix_weight_1+1):\n",
        "            scores[i][j] = vec_dist([fix_weight_1,i,j],places_of_interest)\n",
        "    opt = min([i for j in scores for i in j])\n",
        "    opt_loc = [(i,j) for i in range(fix_weight_1+1) for j in range(fix_weight_1+1) if scores[i][j]==opt][0]\n",
        "    plt.title('optimum score:'+ str(round(opt,3))+' @ at: (1st pl: '+str(fix_weight_1)+'  2nd pl:'+str(opt_loc[0])+'  3rd pl: '+str(opt_loc[1])+')')\n",
        "    plt.figure\n",
        "    ax = sns.heatmap(scores, linewidth=0,cbar_kws={'label': 'kendall tau'})\n",
        "    plt.xlabel('3rd place score')\n",
        "    plt.ylabel('2nd place score')\n",
        "    plt.show()\n",
        "\n",
        "def two_weight_heat_map(max_score, places_of_interest):\n",
        "    scores = [[0]*(max_score+1) for i in range(max_score+1)]\n",
        "    for i in range(max_score+1):\n",
        "        for j in range(max_score+1):\n",
        "            scores[i][j] = vec_dist([i,j],places_of_interest)\n",
        "    opt = min([i for j in scores for i in j])\n",
        "    opt_loc = [(i,j) for i in range(max_score+1) for j in range(max_score+1) if scores[i][j]==opt][0]\n",
        "    plt.figure\n",
        "    ax = sns.heatmap(scores, linewidth=0,cbar_kws={'label': 'kendall tau'})\n",
        "    plt.xlabel('2nd place score')\n",
        "    plt.ylabel('1st place score')\n",
        "    plt.title('optimum score:'+ str(round(opt,3))+' @ at: (1st pl: '+str(opt_loc[0])+'  2nd pl: '+str(opt_loc[1])+')')\n",
        "    plt.tight_layout()\n",
        "    plt.show()"
      ],
      "execution_count": 6,
      "outputs": []
    },
    {
      "cell_type": "code",
      "metadata": {
        "id": "Bm3gMhT5I_LC",
        "colab_type": "code",
        "colab": {}
      },
      "source": [
        "#Settings\n",
        "#Make adjustments here!!!\n",
        "\n",
        "election_type = \"city_council\" # \"city_council\" or \"school_committee\"\n",
        "granularity = \"precinct\"  # \"total\" or \"precinct\"\n",
        "years = [2017] #list of years to include.  can include any odd years 2003-2017. for all: [2003 + 2*i for i in range(8)]\n",
        "num_places = -1  # e.g. 9 council members, or top 3 spots,  or -1 if all places\n",
        "allow_tied_borda = False\n",
        "print_precision = 4\n",
        "num_pts_total = 1\n",
        "\n",
        "\n",
        "\n"
      ],
      "execution_count": 14,
      "outputs": []
    },
    {
      "cell_type": "code",
      "metadata": {
        "id": "Dp5R_KqOJE_n",
        "colab_type": "code",
        "colab": {
          "base_uri": "https://localhost:8080/",
          "height": 1000
        },
        "outputId": "6230d4b1-5f7e-483c-bb74-a6f59fb01e07"
      },
      "source": [
        "#Don't adjust these!\n",
        "\n",
        "#Setup\n",
        "if election_type == \"city_council\":\n",
        "    [cands, prec_STV_vecs, prec_vote_tallies, STV_vecs, vote_tallies] = load_cambridge_vote_data('city_council', 9, years)\n",
        "elif election_type == \"school_committee\":\n",
        "    [cands, prec_STV_vecs, prec_vote_tallies, STV_vecs, vote_tallies] = load_cambridge_vote_data('school_committee', 6, years)\n",
        "else:\n",
        "    print(\"invalid election type\")\n",
        "\n",
        "if granularity == \"precinct\":\n",
        "    STV_vecs = {(year,prec):prec_STV_vecs[year][prec] for year in prec_STV_vecs.keys() if year in years for prec in prec_STV_vecs[year]}\n",
        "    vote_tallies = {(year,prec):prec_vote_tallies[year][prec] for year in prec_vote_tallies.keys() if year in years for prec in prec_vote_tallies[year]}\n",
        "    cands = {(year,prec):cands[year] for (year,prec) in vote_tallies.keys() if year in years}\n",
        "elif granularity == \"total\":\n",
        "    STV_vecs = {(year,\"total\"):STV_vecs[year] for year in STV_vecs.keys() if year in years}\n",
        "    vote_tallies = {(year,\"total\"):vote_tallies[year] for year in vote_tallies.keys() if year in years}\n",
        "    cands = {(year,\"total\"):cands[year] for year in cands.keys() if year in years}\n",
        "else:\n",
        "    print(\"invalid granularity\")\n",
        "\n",
        "units = list(cands.keys())\n",
        "\n",
        "n_cand = max([len(STV_vecs[unit]) for unit in units])\n",
        "#pad for extra candidates/places\n",
        "for unit in units:\n",
        "    cands[unit] = cands[unit]+['pad_'+str(i) for i in range(n_cand-len(cands[unit]))]\n",
        "    STV_vecs[unit] = STV_vecs[unit] + ['pad_'+str(i) for i in range(n_cand-len(STV_vecs[unit]))]\n",
        "    vote_tallies[unit] = {cand:vote_tallies[unit][cand]+[0 for i in range(n_cand-len(vote_tallies[unit][cand]))] for cand in vote_tallies[unit].keys()}\n",
        "    vote_tallies[unit].update({c:[0]*n_cand for c in ['pad_'+str(i) for i in range(n_cand-len(vote_tallies[unit].keys()))]})\n",
        "\n",
        "STV_places = [[STV_vecs[unit].index(cand) for cand in cands[unit]] for unit in units]\n",
        "place_votes = [[vote_tallies[unit][cand] for cand in cands[unit]] for unit in units]\n",
        "\n",
        "for i in range(len(units)):\n",
        "    assert(len(STV_places[i]) == n_cand)\n",
        "    for votes in place_votes[i]:\n",
        "        assert(len(votes)== n_cand)\n",
        "\n",
        "U = 2*num_pts_total*max([max([sum(place_votes[j][i]) for i in range(len(place_votes[j]))]) for j in range(len(units))])\n",
        "L = -1*U\n",
        "\n",
        "if allow_tied_borda:\n",
        "  min_score_diff = 0\n",
        "elif num_pts_total > 1:\n",
        "  min_score_diff = 1\n",
        "else:\n",
        "  min_score_diff = .1\n",
        "\n",
        "if num_places == -1:\n",
        "    places_of_interest = n_cand\n",
        "else:\n",
        "    places_of_interest = min(num_places, n_cand)"
      ],
      "execution_count": 15,
      "outputs": [
        {
          "output_type": "stream",
          "text": [
            "processing:  2017\n",
            "processing:  2017 000703\n",
            "******* WARNING: threshold not passed *******\n",
            "processing:  2017 000601\n",
            "processing:  2017 000402\n",
            "******* WARNING: threshold not passed *******\n",
            "processing:  2017 000303\n",
            "******* WARNING: threshold not passed *******\n",
            "processing:  2017 000304\n",
            "******* WARNING: threshold not passed *******\n",
            "processing:  2017 000203\n",
            "******* WARNING: threshold not passed *******\n",
            "processing:  2017 000502\n",
            "******* WARNING: threshold not passed *******\n",
            "processing:  2017 000702\n",
            "******* WARNING: threshold not passed *******\n",
            "processing:  2017 000901\n",
            "processing:  2017 000501\n",
            "******* WARNING: threshold not passed *******\n",
            "processing:  2017 001002\n",
            "processing:  2017 000602\n",
            "******* WARNING: threshold not passed *******\n",
            "processing:  2017 000301\n",
            "******* WARNING: threshold not passed *******\n",
            "processing:  2017 001102\n",
            "processing:  2017 000803\n",
            "******* WARNING: threshold not passed *******\n",
            "processing:  2017 000603\n",
            "******* WARNING: threshold not passed *******\n",
            "processing:  2017 001003\n",
            "******* WARNING: threshold not passed *******\n",
            "processing:  2017 000902\n",
            "******* WARNING: threshold not passed *******\n",
            "processing:  2017 000103\n",
            "******* WARNING: threshold not passed *******\n",
            "processing:  2017 000201\n",
            "******* WARNING: threshold not passed *******\n",
            "processing:  2017 000302\n",
            "******* WARNING: threshold not passed *******\n",
            "processing:  2017 001103\n",
            "******* WARNING: threshold not passed *******\n",
            "processing:  2017 001001\n",
            "processing:  2017 000801\n",
            "******* WARNING: threshold not passed *******\n",
            "processing:  2017 000101\n",
            "******* WARNING: threshold not passed *******\n",
            "processing:  2017 000503\n",
            "******* WARNING: threshold not passed *******\n",
            "processing:  2017 000202\n",
            "******* WARNING: threshold not passed *******\n",
            "processing:  2017 000102\n",
            "******* WARNING: threshold not passed *******\n",
            "processing:  2017 000401\n",
            "******* WARNING: threshold not passed *******\n",
            "processing:  2017 001101\n",
            "******* WARNING: threshold not passed *******\n",
            "processing:  2017 000701\n",
            "processing:  2017 000802\n",
            "******* WARNING: threshold not passed *******\n",
            "processing:  2017 000403\n",
            "******* WARNING: threshold not passed *******\n",
            "processing:  2017 000903\n",
            "******* WARNING: threshold not passed *******\n",
            "******* WARNING: threshold not passed *******\n"
          ],
          "name": "stdout"
        }
      ]
    },
    {
      "cell_type": "code",
      "metadata": {
        "id": "MC0mlJVFJQ6c",
        "colab_type": "code",
        "colab": {
          "base_uri": "https://localhost:8080/",
          "height": 493
        },
        "outputId": "94119fae-20b4-41af-8e11-c42c34f3d8ba"
      },
      "source": [
        "w = mip_solver()  #this may take a while. especially if using 'precinct' granularity"
      ],
      "execution_count": 17,
      "outputs": [
        {
          "output_type": "stream",
          "text": [
            "sol.cost 637.0 found, best possible: 128.87548630061346\n",
            "optimal w_0: 0.7749999999999995\n",
            "optimal w_1: 0.17499999999999982\n",
            "optimal w_2: 0.05000000000000001\n",
            "optimal w_3: 0.0\n",
            "optimal w_4: 0.0\n",
            "optimal w_5: 0.0\n",
            "optimal w_6: 0.0\n",
            "optimal w_7: 0.0\n",
            "optimal w_8: 0.0\n",
            "optimal w_9: 0.0\n",
            "optimal w_10: 0.0\n",
            "optimal w_11: 0.0\n",
            "optimal w_12: 0.0\n",
            "optimal w_13: 0.0\n",
            "optimal w_14: 0.0\n",
            "optimal w_15: 0.0\n",
            "optimal w_16: 0.0\n",
            "optimal w_17: 0.0\n",
            "optimal w_18: 0.0\n",
            "optimal w_19: 0.0\n",
            "optimal w_20: 0.0\n",
            "optimal w_21: 0.0\n",
            "optimal w_22: 0.0\n",
            "optimal w_23: 0.0\n",
            "optimal w_24: 0.0\n",
            "optimal w_25: 0.0\n",
            "w: [0.775, 0.175, 0.05, 0.0, 0.0, 0.0, 0.0, 0.0, 0.0, 0.0, 0.0, 0.0, 0.0, 0.0, 0.0, 0.0, 0.0, 0.0, 0.0, 0.0, 0.0, 0.0, 0.0, 0.0, 0.0, 0.0]\n"
          ],
          "name": "stdout"
        }
      ]
    },
    {
      "cell_type": "code",
      "metadata": {
        "id": "8xNh9v4VJxFL",
        "colab_type": "code",
        "colab": {}
      },
      "source": [
        "print_vector_distances(w)"
      ],
      "execution_count": null,
      "outputs": []
    },
    {
      "cell_type": "code",
      "metadata": {
        "id": "qryMj0PZJvad",
        "colab_type": "code",
        "colab": {}
      },
      "source": [
        "print_target_comparison(w)"
      ],
      "execution_count": null,
      "outputs": []
    },
    {
      "cell_type": "code",
      "metadata": {
        "id": "QhftmLGZJzy8",
        "colab_type": "code",
        "colab": {
          "base_uri": "https://localhost:8080/",
          "height": 304
        },
        "outputId": "c10dad6c-6097-4376-c8b8-dd5bd90f9a93"
      },
      "source": [
        "three_weight_heat_map(100, 20)"
      ],
      "execution_count": 12,
      "outputs": [
        {
          "output_type": "display_data",
          "data": {
            "image/png": "[encoded data removed]",
            "text/plain": [
              "<Figure size 432x288 with 2 Axes>"
            ]
          },
          "metadata": {
            "tags": [],
            "needs_background": "light"
          }
        }
      ]
    },
    {
      "cell_type": "code",
      "metadata": {
        "id": "8crEvTmsJ3JE",
        "colab_type": "code",
        "colab": {
          "base_uri": "https://localhost:8080/",
          "height": 297
        },
        "outputId": "ecb1bd85-b348-4234-de5b-d4cb979a0d75"
      },
      "source": [
        "two_weight_heat_map(100, 20)"
      ],
      "execution_count": 13,
      "outputs": [
        {
          "output_type": "display_data",
          "data": {
            "image/png": "[encoded data removed]",
            "text/plain": [
              "<Figure size 432x288 with 2 Axes>"
            ]
          },
          "metadata": {
            "tags": [],
            "needs_background": "light"
          }
        }
      ]
    }
  ]
}