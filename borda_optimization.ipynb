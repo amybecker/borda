{
  "nbformat": 4,
  "nbformat_minor": 0,
  "metadata": {
    "colab": {
      "name": "test.ipynb",
      "provenance": [],
      "collapsed_sections": [],
      "authorship_tag": "ABX9TyME5OkmK1bchkMw3p2j8aes",
      "include_colab_link": true
    },
    "kernelspec": {
      "name": "python3",
      "display_name": "Python 3"
    }
  },
  "cells": [
    {
      "cell_type": "markdown",
      "metadata": {
        "id": "view-in-github",
        "colab_type": "text"
      },
      "source": [
        "<a href=\"https://colab.research.google.com/github/amybecker/borda/blob/master/borda_optimization.ipynb\" target=\"_parent\"><img src=\"https://colab.research.google.com/assets/colab-badge.svg\" alt=\"Open In Colab\"/></a>"
      ]
    },
    {
      "cell_type": "code",
      "metadata": {
        "id": "AmpL0_CLIHI4",
        "colab_type": "code",
        "colab": {}
      },
      "source": [
        "import sys\n",
        "!{sys.executable} -m pip install mip"
      ],
      "execution_count": null,
      "outputs": []
    },
    {
      "cell_type": "code",
      "metadata": {
        "id": "oNd3Uyzp_ufO",
        "colab_type": "code",
        "colab": {}
      },
      "source": [
        "!git clone https://github.com/amybecker/borda\n",
        "%cd borda"
      ],
      "execution_count": null,
      "outputs": []
    },
    {
      "cell_type": "code",
      "metadata": {
        "id": "QnvVyCCNy1WP",
        "colab_type": "code",
        "colab": {}
      },
      "source": [
        "from mip import *\n",
        "import operator\n",
        "import itertools\n",
        "import scipy.stats as stats\n",
        "import numpy as np\n",
        "import seaborn as sns\n",
        "import matplotlib.pyplot as plt\n",
        "from vote_reader import *"
      ],
      "execution_count": null,
      "outputs": []
    },
    {
      "cell_type": "code",
      "metadata": {
        "id": "6x-eGykNzCEk",
        "colab_type": "code",
        "colab": {
          "base_uri": "https://localhost:8080/",
          "height": 34
        },
        "outputId": "f6d8a805-c95a-4f01-e236-4c15fe71167e"
      },
      "source": [
        "#helper functions\n",
        "def vec_dist(x,places):\n",
        "    out_sum = 0\n",
        "    for unit in range(len(units)):\n",
        "        place_votes_unit = place_votes[unit]\n",
        "        borda_scores = {cands[units[unit]][cand]:sum([place_votes_unit[cand][i]*x[i] for i in range(len(x))]) for cand in range(len(place_votes_unit))}\n",
        "        sorted_borda_dict = dict(sorted(borda_scores.items(), key=operator.itemgetter(1), reverse=True))\n",
        "        borda_vec = list(sorted_borda_dict.keys())\n",
        "        assert(len(STV_vecs[units[unit]])==len(borda_vec))\n",
        "        assert(set(STV_vecs[units[unit]])==set(borda_vec))\n",
        "        a = [STV_vecs[units[unit]].index(c) for c in STV_vecs[units[unit]]]\n",
        "        b = [STV_vecs[units[unit]].index(c) for c in borda_vec]\n",
        "        out_sum += (-1*stats.kendalltau(a[:places], b[:places])[0]+1)/2\n",
        "    return out_sum\n",
        "\n",
        "def borda_scores(x):\n",
        "    out_dict = {}\n",
        "    for unit in range(len(units)):\n",
        "        place_votes_unit = place_votes[unit]\n",
        "        scores = {cands[units[unit]][cand]:sum([place_votes_unit[cand][i]*x[i] for i in range(len(x))]) for cand in range(len(place_votes_unit))}\n",
        "        sorted_borda_dict = dict(sorted(scores.items(), key=operator.itemgetter(1), reverse=True))\n",
        "        borda_vec = list(sorted_borda_dict.keys())\n",
        "        out_dict[units[unit]] = {cand:sorted_borda_dict[cand] for cand in borda_vec}\n",
        "    return out_dict\n",
        "\n",
        "def borda_vec(x):\n",
        "    scores_dict = borda_scores(x)\n",
        "    out_dict = {}\n",
        "    for unit in units:\n",
        "        sorted_borda_dict = dict(sorted(scores_dict[unit].items(), key=operator.itemgetter(1), reverse=True))\n",
        "        out_dict[unit]= list(sorted_borda_dict.keys())\n",
        "    return out_dict\n"
      ],
      "execution_count": null,
      "outputs": [
        {
          "output_type": "stream",
          "text": [
            "this is a test\n"
          ],
          "name": "stdout"
        }
      ]
    },
    {
      "cell_type": "code",
      "metadata": {
        "id": "uNaOd9g215s_",
        "colab_type": "code",
        "colab": {
          "base_uri": "https://localhost:8080/",
          "height": 102
        },
        "outputId": "7492c558-ce95-4d43-ca2a-ddea2304c4e3"
      },
      "source": [
        "def mip_solver():\n",
        "    # Create a new model\n",
        "    # m = Model(solver_name=CBC)\n",
        "    m = Model()\n",
        "    m.integer_tol = 1e-9\n",
        "\n",
        "    # Create variables\n",
        "    # borda weights\n",
        "    w_mat = [0]*n_cand\n",
        "    for i in range(n_cand):\n",
        "        if num_pts_total == 1:\n",
        "            w_mat[i] = m.add_var(lb = 0.0, ub=1, name=\"w_\"+str(i))\n",
        "        else:\n",
        "            w_mat[i] = m.add_var(lb = 0, ub=num_pts_total, var_type=INTEGER, name=\"w_\"+str(i))\n",
        "\n",
        "\n",
        "    # violated_ordered_pairs\n",
        "    z_mat = [[[0]*n_cand for i in range(n_cand)] for unit in range(len(units))]\n",
        "    for y in range(len(units)):\n",
        "        for i in range(n_cand):\n",
        "            for j in range(n_cand):\n",
        "                z_mat[y][i][j] = m.add_var(var_type=BINARY, name=\"z_\"+str(y)+'_'+str(i)+'_'+str(j))\n",
        "\n",
        "    # Add constraints:\n",
        "    for i in range(len(w_mat)-1):\n",
        "        m+= w_mat[i]- w_mat[i+1]>= 0, \"w_noninc_\"+str(i)\n",
        "    m += w_mat[-1]>= 0, \"w_nonneg\"\n",
        "\n",
        "    m += num_pts_total == xsum(w_mat), \"w_sum_to_one\"\n",
        "\n",
        "    for y in range(len(units)):\n",
        "        for i in range(places_of_interest-1):\n",
        "            for j in range(i+1,places_of_interest,1):\n",
        "                if STV_places[y][i] < STV_places[y][j]:\n",
        "                    m+= xsum([place_votes[y][j][k]*w_mat[k] for k in range(n_cand)]) - xsum([place_votes[y][i][k]*w_mat[k] for k in range(n_cand)])<= z_mat[y][i][j]*U - min_score_diff\n",
        "                else:\n",
        "                    m+= xsum([place_votes[y][i][k]*w_mat[k] for k in range(n_cand)]) - xsum([place_votes[y][j][k]*w_mat[k] for k in range(n_cand)])<= z_mat[y][i][j]*U - min_score_diff\n",
        "\n",
        "    # Set objective:\n",
        "    m.objective = minimize(xsum([xsum([xsum(z_elem) for z_elem in z_unit]) for z_unit in z_mat]))\n",
        "\n",
        "    status = m.optimize(max_seconds=3600)\n",
        "    if status == OptimizationStatus.OPTIMAL:\n",
        "        print('optimal solution cost {} found'.format(m.objective_value))\n",
        "    elif status == OptimizationStatus.FEASIBLE:\n",
        "        print('sol.cost {} found, best possible: {}'.format(m.objective_value, m.objective_bound))\n",
        "    elif status == OptimizationStatus.NO_SOLUTION_FOUND:\n",
        "        print('no feasible solution found, lower bound is: {}'.format(m.objective_bound))\n",
        "\n",
        "    for elem in w_mat:\n",
        "        print(\"optimal \"+elem.name+\":\", elem.x)\n",
        "\n",
        "    w = [round(elem.x, print_precision) for elem in w_mat]\n",
        "    w_borda1 = list(range(len(w),0,-1))\n",
        "    w_borda0 = [w_i - 1 for w_i in w_borda1]\n",
        "    w_Dowdall = [1/(len(w_borda0)-w_i) for w_i in w_borda0]\n",
        "    w_MLB_MVP = [14]+[9-i for i in range(9)]\n",
        "    print(\"w:\", w)\n",
        "    return w\n",
        "\n",
        "def print_vector_distances(w):\n",
        "    print(\"vector dist (kendall tau) w:\", vec_dist(w,places_of_interest))\n",
        "    print(\"vector dist (kendall tau) borda_1:\", vec_dist(w_borda1,places_of_interest))\n",
        "    print(\"vector dist (kendall tau) borda_2:\", vec_dist(w_borda0,places_of_interest))\n",
        "    print(\"vector dist (kendall tau) Dowdall:\", vec_dist(w_Dowdall,places_of_interest))\n",
        "    print(\"vector dist (kendall tau) MLB MVP:\", vec_dist(w_MLB_MVP,places_of_interest))\n",
        "\n",
        "def print_target_comparison(w):\n",
        "    print('borda scores:', borda_scores(w))\n",
        "    print('targets:', [STV_vecs[unit][:places_of_interest] for unit in units])\n",
        "\n"
      ],
      "execution_count": null,
      "outputs": [
        {
          "output_type": "stream",
          "text": [
            "Cloning into 'borda'...\n",
            "remote: Enumerating objects: 43, done.\u001b[K\n",
            "remote: Total 43 (delta 0), reused 0 (delta 0), pack-reused 43\u001b[K\n",
            "Unpacking objects: 100% (43/43), done.\n",
            "/content/borda/borda\n"
          ],
          "name": "stdout"
        }
      ]
    },
    {
      "cell_type": "code",
      "metadata": {
        "id": "fR6F_FjJ_gaE",
        "colab_type": "code",
        "colab": {}
      },
      "source": [
        "def three_weight_heat_map(fix_weight_1, places_of_interest):\n",
        "    scores = [[0]*(fix_weight_1+1) for i in range(fix_weight_1+1)]\n",
        "    for i in range(fix_weight_1+1):\n",
        "        for j in range(fix_weight_1+1):\n",
        "            scores[i][j] = vec_dist([fix_weight_1,i,j],places_of_interest)\n",
        "    opt = min([i for j in scores for i in j])\n",
        "    opt_loc = [(i,j) for i in range(fix_weight_1+1) for j in range(fix_weight_1+1) if scores[i][j]==opt][0]\n",
        "    plt.title('optimum score:'+ str(round(opt,3))+' @ at: (1st pl: '+str(fix_weight_1)+'  2nd pl:'+str(opt_loc[0])+'  3rd pl: '+str(opt_loc[1])+')')\n",
        "    plt.figure\n",
        "    ax = sns.heatmap(scores, linewidth=0,cbar_kws={'label': 'kendall tau'})\n",
        "    plt.xlabel('3rd place score')\n",
        "    plt.ylabel('2nd place score')\n",
        "    plt.show()\n",
        "\n",
        "def two_weight_heat_map(max_score, places_of_interest):\n",
        "    scores = [[0]*(max_score+1) for i in range(max_score+1)]\n",
        "    for i in range(max_score+1):\n",
        "        for j in range(max_score+1):\n",
        "            scores[i][j] = vec_dist([i,j],places_of_interest)\n",
        "    opt = min([i for j in scores for i in j])\n",
        "    opt_loc = [(i,j) for i in range(max_score+1) for j in range(max_score+1) if scores[i][j]==opt][0]\n",
        "    plt.figure\n",
        "    ax = sns.heatmap(scores, linewidth=0,cbar_kws={'label': 'kendall tau'})\n",
        "    plt.xlabel('2nd place score')\n",
        "    plt.ylabel('1st place score')\n",
        "    plt.title('optimum score:'+ str(round(opt,3))+' @ at: (1st pl: '+str(opt_loc[0])+'  2nd pl: '+str(opt_loc[1])+')')\n",
        "    plt.tight_layout()\n",
        "    plt.show()"
      ],
      "execution_count": null,
      "outputs": []
    }
  ]
}